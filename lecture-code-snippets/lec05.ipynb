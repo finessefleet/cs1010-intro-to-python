{
 "cells": [
  {
   "cell_type": "code",
   "execution_count": null,
   "id": "13abe5e7-80a1-495e-a7ce-60eeab1fc333",
   "metadata": {},
   "outputs": [],
   "source": [
    "#datatypes , int , float, string, \n",
    "#identifiers\n",
    "#different system-defined functions - print, input, type\n",
    "#IDLE\n",
    "#smart editor Jupiter Notebook\n",
    "#simple pgm - to find out the area of circle , area of rectangle and square, stud mks calc\n",
    "#comments - single line and the multiline comments\n",
    "#escape sequences - \\t and \\n\n"
   ]
  },
  {
   "cell_type": "code",
   "execution_count": 1,
   "id": "828db053-f9cf-48b3-8afc-0355da6d5644",
   "metadata": {},
   "outputs": [
    {
     "data": {
      "text/plain": [
       "True"
      ]
     },
     "execution_count": 1,
     "metadata": {},
     "output_type": "execute_result"
    }
   ],
   "source": [
    "a=67\n",
    "b=34.2\n",
    "c=\"Python\"\n",
    "a>b"
   ]
  },
  {
   "cell_type": "code",
   "execution_count": 2,
   "id": "c3ef5656-10da-4976-9784-6bae56dfbfd6",
   "metadata": {},
   "outputs": [
    {
     "name": "stdout",
     "output_type": "stream",
     "text": [
      "67\n",
      "34.2\n",
      "Python\n"
     ]
    }
   ],
   "source": [
    "print(a)  #system defined fn\n",
    "print(b)\n",
    "print(c)"
   ]
  },
  {
   "cell_type": "code",
   "execution_count": 5,
   "id": "dd3176a1-27ae-45dc-b3a8-f3670fde4e5d",
   "metadata": {},
   "outputs": [
    {
     "name": "stdout",
     "output_type": "stream",
     "text": [
      "<class 'int'>\n",
      "<class 'float'>\n",
      "<class 'str'>\n",
      "<class 'bool'>\n"
     ]
    }
   ],
   "source": [
    "print(type(a))\n",
    "print(type(b))\n",
    "print(type(c))\n",
    "print(type(a>b))"
   ]
  },
  {
   "cell_type": "code",
   "execution_count": 9,
   "id": "d46312ed-ab90-46e1-9fc5-8b8ac29351b4",
   "metadata": {},
   "outputs": [
    {
     "name": "stdin",
     "output_type": "stream",
     "text": [
      "enter the name of the student abc\n",
      "enter the 1st test 78\n",
      "enter the 2nd test 89\n",
      "enter the 3rd test 90\n"
     ]
    },
    {
     "name": "stdout",
     "output_type": "stream",
     "text": [
      "total mks of - name 257 abc\n"
     ]
    },
    {
     "data": {
      "text/plain": [
       "' this program calculates the total of the marks\\nI hope you understood it'"
      ]
     },
     "execution_count": 9,
     "metadata": {},
     "output_type": "execute_result"
    }
   ],
   "source": [
    "# using input() function along with the datatypes\n",
    "name=input(\"enter the name of the student\")\n",
    "mk1=int(input(\"enter the 1st test\"))\n",
    "mk2=int(input(\"enter the 2nd test\"))\n",
    "mk3=int(input(\"enter the 3rd test\"))\n",
    "total=mk1+mk2+mk3\n",
    "print(\"total mks of -\",\"name\", total, name)\n",
    "\"\"\" this program calculates the total of the marks\n",
    "I hope you understood it\"\"\"\n",
    "\n",
    "\n"
   ]
  },
  {
   "cell_type": "code",
   "execution_count": 10,
   "id": "f8468adf-91dc-40da-9e50-451eea2e3db5",
   "metadata": {},
   "outputs": [
    {
     "name": "stdout",
     "output_type": "stream",
     "text": [
      "140722801988088\n"
     ]
    }
   ],
   "source": [
    "print(id(a))"
   ]
  },
  {
   "cell_type": "code",
   "execution_count": 13,
   "id": "88006c79-5fae-41e6-a43d-f6688479de92",
   "metadata": {},
   "outputs": [
    {
     "data": {
      "text/plain": [
       "56"
      ]
     },
     "execution_count": 13,
     "metadata": {},
     "output_type": "execute_result"
    }
   ],
   "source": [
    "b1ab=56\n",
    "b1ab"
   ]
  },
  {
   "cell_type": "code",
   "execution_count": 14,
   "id": "83e22e5f-b591-4039-8920-fe043f6ddd5b",
   "metadata": {},
   "outputs": [],
   "source": [
    "a=b=c=90\n"
   ]
  },
  {
   "cell_type": "code",
   "execution_count": 15,
   "id": "bde41dfc-33db-468e-9bdf-0f54b509c84a",
   "metadata": {},
   "outputs": [
    {
     "name": "stdout",
     "output_type": "stream",
     "text": [
      "90\n",
      "90\n"
     ]
    }
   ],
   "source": [
    "print(a)\n",
    "print(b)"
   ]
  },
  {
   "cell_type": "code",
   "execution_count": 16,
   "id": "2f98cf9c-8207-466b-866c-e507c07503be",
   "metadata": {},
   "outputs": [
    {
     "name": "stdout",
     "output_type": "stream",
     "text": [
      "x \t y \t z are 20 30 40\n"
     ]
    }
   ],
   "source": [
    "x,y,z=20,30,40\n",
    "print(\"x \\t y \\t z are\",x,y,z)"
   ]
  },
  {
   "cell_type": "code",
   "execution_count": 22,
   "id": "168bcefe-1bf4-438e-8dd5-2d284d4c97ec",
   "metadata": {},
   "outputs": [
    {
     "name": "stdout",
     "output_type": "stream",
     "text": [
      "3.0\n"
     ]
    }
   ],
   "source": [
    "x=math.sqrt(9)\n",
    "print(x)"
   ]
  },
  {
   "cell_type": "code",
   "execution_count": 21,
   "id": "8cb55303-c692-4f27-b054-e4b2961e410f",
   "metadata": {},
   "outputs": [
    {
     "name": "stdout",
     "output_type": "stream",
     "text": [
      "35\n"
     ]
    }
   ],
   "source": [
    "import math\n",
    "y=math.ceil(34.7)\n",
    "print(y)"
   ]
  },
  {
   "cell_type": "code",
   "execution_count": 24,
   "id": "58fec5ca-e6c9-4c20-8d9b-76c40a5ba736",
   "metadata": {},
   "outputs": [
    {
     "name": "stdout",
     "output_type": "stream",
     "text": [
      "34\n"
     ]
    }
   ],
   "source": [
    "z=math.floor(34.2)\n",
    "print(z)"
   ]
  },
  {
   "cell_type": "code",
   "execution_count": 25,
   "id": "6e9e2998-6d46-44bb-8e79-34e5d7c1f81b",
   "metadata": {},
   "outputs": [
    {
     "data": {
      "text/plain": [
       "90"
      ]
     },
     "execution_count": 25,
     "metadata": {},
     "output_type": "execute_result"
    }
   ],
   "source": [
    "a\n"
   ]
  },
  {
   "cell_type": "code",
   "execution_count": 26,
   "id": "fb490f81-421e-4a26-8393-f1cad0b7bc06",
   "metadata": {},
   "outputs": [],
   "source": [
    "del a"
   ]
  },
  {
   "cell_type": "code",
   "execution_count": 27,
   "id": "ce598642-6e7a-4fec-8d9b-af93b85fa6bf",
   "metadata": {},
   "outputs": [
    {
     "ename": "NameError",
     "evalue": "name 'a' is not defined",
     "output_type": "error",
     "traceback": [
      "\u001b[1;31m---------------------------------------------------------------------------\u001b[0m",
      "\u001b[1;31mNameError\u001b[0m                                 Traceback (most recent call last)",
      "Cell \u001b[1;32mIn[27], line 1\u001b[0m\n\u001b[1;32m----> 1\u001b[0m \u001b[43ma\u001b[49m\n",
      "\u001b[1;31mNameError\u001b[0m: name 'a' is not defined"
     ]
    }
   ],
   "source": [
    "a\n"
   ]
  },
  {
   "cell_type": "code",
   "execution_count": 30,
   "id": "be439c10-a016-43eb-9ad5-8404f99d6f81",
   "metadata": {},
   "outputs": [
    {
     "name": "stdout",
     "output_type": "stream",
     "text": [
      "False\n",
      "False\n",
      "True\n",
      "False\n",
      "True\n",
      "True\n"
     ]
    }
   ],
   "source": [
    "\"\"\"relational operators,they allow us to maintain the relationship between \n",
    "more than one variable/expression\"\"\"\n",
    "#> >= <  <=  ==  !=\n",
    "a=10\n",
    "b=20\n",
    "\n",
    "print(a==b)  #relational op\n",
    "print(a>b)\n",
    "print(a<b)\n",
    "print(a>=b)\n",
    "print(a<=b)\n",
    "print(a!=b)"
   ]
  },
  {
   "cell_type": "code",
   "execution_count": 31,
   "id": "70d6f0eb-e520-4c44-80a7-bfa370daea52",
   "metadata": {},
   "outputs": [
    {
     "name": "stdout",
     "output_type": "stream",
     "text": [
      "20\n"
     ]
    }
   ],
   "source": [
    "a=b \n",
    "print(a)"
   ]
  },
  {
   "cell_type": "code",
   "execution_count": null,
   "id": "60953e63-84d9-4cc0-a73c-d747a531031c",
   "metadata": {},
   "outputs": [],
   "source": [
    "#sequential \n",
    "#conditional\n",
    "#iteration"
   ]
  },
  {
   "cell_type": "code",
   "execution_count": null,
   "id": "4b1e18c5-de81-4043-b1f6-7d8983aae6cb",
   "metadata": {},
   "outputs": [],
   "source": [
    "#if condition\n",
    "'''if <condition>:\n",
    "    statement'''   #syntax of if condition"
   ]
  },
  {
   "cell_type": "code",
   "execution_count": 35,
   "id": "1ff8dd5f-5b4d-43ca-b0d9-7e4b62d81c7b",
   "metadata": {},
   "outputs": [
    {
     "name": "stdout",
     "output_type": "stream",
     "text": [
      "it is a positive no.\n"
     ]
    }
   ],
   "source": [
    "p=10\n",
    "if p>0:\n",
    "    print(\"it is a positive no.\")"
   ]
  },
  {
   "cell_type": "code",
   "execution_count": 39,
   "id": "0c575e51-7612-45bb-8006-c217bc3b32fb",
   "metadata": {},
   "outputs": [
    {
     "name": "stdin",
     "output_type": "stream",
     "text": [
      "enter the value for p 45\n"
     ]
    },
    {
     "name": "stdout",
     "output_type": "stream",
     "text": [
      "p is positive\n"
     ]
    }
   ],
   "source": [
    "p=int(input(\"enter the value for p\"))\n",
    "if p>0:   #identation op\n",
    "    print(\"p is positive\")\n",
    "else:\n",
    "    print(\"p is negative\")"
   ]
  },
  {
   "cell_type": "code",
   "execution_count": 2,
   "id": "77ce8a49-e8dd-4c02-8c37-f1d9aa719544",
   "metadata": {},
   "outputs": [
    {
     "name": "stdout",
     "output_type": "stream",
     "text": [
      "-6\n",
      "3\n"
     ]
    }
   ],
   "source": [
    "#session/lecture 4 \n",
    "x=-6\n",
    "y=3\n",
    "print(x)\n",
    "print(y)\n"
   ]
  },
  {
   "cell_type": "code",
   "execution_count": 3,
   "id": "c9ed6168-2d9a-4de6-b557-2a89991b9151",
   "metadata": {},
   "outputs": [
    {
     "data": {
      "text/plain": [
       "1"
      ]
     },
     "execution_count": 3,
     "metadata": {},
     "output_type": "execute_result"
    }
   ],
   "source": [
    "a=7\n",
    "b=2\n",
    "a%b"
   ]
  },
  {
   "cell_type": "code",
   "execution_count": 4,
   "id": "543535d1-8d68-481b-a718-1ae2a65b4c91",
   "metadata": {},
   "outputs": [
    {
     "name": "stdout",
     "output_type": "stream",
     "text": [
      "7\n",
      "2\n"
     ]
    }
   ],
   "source": [
    "print(a)\n",
    "print(b)"
   ]
  },
  {
   "cell_type": "code",
   "execution_count": 5,
   "id": "d56df280-888b-41c1-a089-6bbdf47e28e6",
   "metadata": {},
   "outputs": [
    {
     "data": {
      "text/plain": [
       "3"
      ]
     },
     "execution_count": 5,
     "metadata": {},
     "output_type": "execute_result"
    }
   ],
   "source": [
    "a//b"
   ]
  },
  {
   "cell_type": "code",
   "execution_count": 6,
   "id": "2fca7249-1582-4996-a2f7-fa3baec63321",
   "metadata": {},
   "outputs": [
    {
     "data": {
      "text/plain": [
       "3.5"
      ]
     },
     "execution_count": 6,
     "metadata": {},
     "output_type": "execute_result"
    }
   ],
   "source": [
    "a/b"
   ]
  },
  {
   "cell_type": "code",
   "execution_count": 7,
   "id": "136f595e-6cfb-46a4-8d03-cc73b63d43b5",
   "metadata": {},
   "outputs": [
    {
     "data": {
      "text/plain": [
       "8"
      ]
     },
     "execution_count": 7,
     "metadata": {},
     "output_type": "execute_result"
    }
   ],
   "source": [
    "a=2\n",
    "b=3\n",
    "a**b\n"
   ]
  },
  {
   "cell_type": "code",
   "execution_count": 14,
   "id": "7a38e15d-23fe-45d3-9cc7-afde6c9115e1",
   "metadata": {},
   "outputs": [
    {
     "data": {
      "text/plain": [
       "16"
      ]
     },
     "execution_count": 14,
     "metadata": {},
     "output_type": "execute_result"
    }
   ],
   "source": [
    "\n",
    "x=pow(4,2)  #system defined fn\n",
    "x"
   ]
  },
  {
   "cell_type": "code",
   "execution_count": 15,
   "id": "1b57dc51-66c1-4e97-b87e-8a489185b06b",
   "metadata": {},
   "outputs": [
    {
     "data": {
      "text/plain": [
       "True"
      ]
     },
     "execution_count": 15,
     "metadata": {},
     "output_type": "execute_result"
    }
   ],
   "source": [
    "a=5\n",
    "b=5\n",
    "a>=b"
   ]
  },
  {
   "cell_type": "code",
   "execution_count": 16,
   "id": "b3440354-82d5-46a3-b395-ee526306a0f1",
   "metadata": {},
   "outputs": [
    {
     "data": {
      "text/plain": [
       "5"
      ]
     },
     "execution_count": 16,
     "metadata": {},
     "output_type": "execute_result"
    }
   ],
   "source": [
    "a and b"
   ]
  },
  {
   "cell_type": "code",
   "execution_count": 17,
   "id": "13582005-bfb3-4ddd-93ea-120b920d3270",
   "metadata": {},
   "outputs": [
    {
     "data": {
      "text/plain": [
       "True"
      ]
     },
     "execution_count": 17,
     "metadata": {},
     "output_type": "execute_result"
    }
   ],
   "source": [
    "a==5 and b==5"
   ]
  },
  {
   "cell_type": "code",
   "execution_count": 18,
   "id": "8c9c6734-c8ee-4824-b4ab-880db64ed3be",
   "metadata": {},
   "outputs": [
    {
     "data": {
      "text/plain": [
       "False"
      ]
     },
     "execution_count": 18,
     "metadata": {},
     "output_type": "execute_result"
    }
   ],
   "source": [
    "a>5 and b==5"
   ]
  },
  {
   "cell_type": "code",
   "execution_count": 19,
   "id": "e153fb68-0a8b-44df-a4fa-72431b5d6843",
   "metadata": {},
   "outputs": [
    {
     "data": {
      "text/plain": [
       "True"
      ]
     },
     "execution_count": 19,
     "metadata": {},
     "output_type": "execute_result"
    }
   ],
   "source": [
    "a>=5 and b==5"
   ]
  },
  {
   "cell_type": "code",
   "execution_count": 20,
   "id": "8dddda3f-3ade-41ff-bb7f-dd7839100e38",
   "metadata": {},
   "outputs": [
    {
     "data": {
      "text/plain": [
       "True"
      ]
     },
     "execution_count": 20,
     "metadata": {},
     "output_type": "execute_result"
    }
   ],
   "source": [
    "a>=5 or b==5"
   ]
  },
  {
   "cell_type": "code",
   "execution_count": 21,
   "id": "b1150f13-592f-4cea-8146-5819d89c1bb6",
   "metadata": {},
   "outputs": [
    {
     "data": {
      "text/plain": [
       "True"
      ]
     },
     "execution_count": 21,
     "metadata": {},
     "output_type": "execute_result"
    }
   ],
   "source": [
    "a>=5 or b==4"
   ]
  },
  {
   "cell_type": "code",
   "execution_count": 22,
   "id": "660c0db9-95cb-4bad-a7f7-fed4a7776987",
   "metadata": {},
   "outputs": [
    {
     "data": {
      "text/plain": [
       "False"
      ]
     },
     "execution_count": 22,
     "metadata": {},
     "output_type": "execute_result"
    }
   ],
   "source": [
    "a>5 or b==4"
   ]
  },
  {
   "cell_type": "code",
   "execution_count": 23,
   "id": "ccc55dde-1843-481b-ae98-eacd7e6368a0",
   "metadata": {},
   "outputs": [
    {
     "data": {
      "text/plain": [
       "False"
      ]
     },
     "execution_count": 23,
     "metadata": {},
     "output_type": "execute_result"
    }
   ],
   "source": [
    "not(a and b)"
   ]
  },
  {
   "cell_type": "code",
   "execution_count": 26,
   "id": "1ef35ca1-3a89-4f0c-ac2a-e4e6f8a2c562",
   "metadata": {},
   "outputs": [
    {
     "name": "stdout",
     "output_type": "stream",
     "text": [
      "15\n",
      "5\n",
      "20\n",
      "5\n"
     ]
    }
   ],
   "source": [
    "print(a)\n",
    "print(b)\n",
    "a+=b  #meaning is a=a+b  a=5 , b=5\n",
    "print(a)\n",
    "print(b)"
   ]
  },
  {
   "cell_type": "code",
   "execution_count": 27,
   "id": "a14a202a-b06b-49ed-a7e8-0edaa00d7222",
   "metadata": {},
   "outputs": [
    {
     "ename": "TypeError",
     "evalue": "argument of type 'int' is not iterable",
     "output_type": "error",
     "traceback": [
      "\u001b[1;31m---------------------------------------------------------------------------\u001b[0m",
      "\u001b[1;31mTypeError\u001b[0m                                 Traceback (most recent call last)",
      "Cell \u001b[1;32mIn[27], line 3\u001b[0m\n\u001b[0;32m      1\u001b[0m a\u001b[38;5;241m=\u001b[39m\u001b[38;5;241m10\u001b[39m\n\u001b[0;32m      2\u001b[0m b\u001b[38;5;241m=\u001b[39m\u001b[38;5;241m20\u001b[39m\n\u001b[1;32m----> 3\u001b[0m \u001b[43ma\u001b[49m\u001b[43m \u001b[49m\u001b[38;5;129;43;01min\u001b[39;49;00m\u001b[43m \u001b[49m\u001b[43mb\u001b[49m\n",
      "\u001b[1;31mTypeError\u001b[0m: argument of type 'int' is not iterable"
     ]
    }
   ],
   "source": [
    "a=10\n",
    "b=20\n",
    "a in b"
   ]
  },
  {
   "cell_type": "code",
   "execution_count": 28,
   "id": "2106a6f7-f354-4f10-8792-fe0171b85e0b",
   "metadata": {},
   "outputs": [
    {
     "data": {
      "text/plain": [
       "True"
      ]
     },
     "execution_count": 28,
     "metadata": {},
     "output_type": "execute_result"
    }
   ],
   "source": [
    "x=[5,6,7]   #list in Python\n",
    "6 in x\n"
   ]
  },
  {
   "cell_type": "code",
   "execution_count": 29,
   "id": "ea9bf35a-eba6-475c-b562-7d86af49a31c",
   "metadata": {},
   "outputs": [
    {
     "data": {
      "text/plain": [
       "False"
      ]
     },
     "execution_count": 29,
     "metadata": {},
     "output_type": "execute_result"
    }
   ],
   "source": [
    "8 in x"
   ]
  },
  {
   "cell_type": "code",
   "execution_count": 30,
   "id": "fb8cf2e4-9158-4603-9f4c-0da56bc2a124",
   "metadata": {},
   "outputs": [
    {
     "data": {
      "text/plain": [
       "True"
      ]
     },
     "execution_count": 30,
     "metadata": {},
     "output_type": "execute_result"
    }
   ],
   "source": [
    "8 not in x"
   ]
  },
  {
   "cell_type": "code",
   "execution_count": 32,
   "id": "9e99d6d9-946f-414e-abbe-3ddc3d9ec50c",
   "metadata": {},
   "outputs": [
    {
     "data": {
      "text/plain": [
       "[6, 7.2, 'a', 'Python', True]"
      ]
     },
     "execution_count": 32,
     "metadata": {},
     "output_type": "execute_result"
    }
   ],
   "source": [
    "listelem=[6,7.2,'a','Python',True]\n",
    "listelem"
   ]
  },
  {
   "cell_type": "code",
   "execution_count": 33,
   "id": "5f3f784b-aed3-47e5-816f-bd0f41cee9c0",
   "metadata": {},
   "outputs": [
    {
     "data": {
      "text/plain": [
       "False"
      ]
     },
     "execution_count": 33,
     "metadata": {},
     "output_type": "execute_result"
    }
   ],
   "source": [
    "b in listelem"
   ]
  },
  {
   "cell_type": "code",
   "execution_count": 34,
   "id": "75ccc0eb-fa76-41c8-bbe3-118f816a838d",
   "metadata": {},
   "outputs": [
    {
     "data": {
      "text/plain": [
       "True"
      ]
     },
     "execution_count": 34,
     "metadata": {},
     "output_type": "execute_result"
    }
   ],
   "source": [
    "p=6\n",
    "p in listelem"
   ]
  },
  {
   "cell_type": "code",
   "execution_count": 35,
   "id": "d3a625d0-66d2-4174-8df0-ff5a50af1cd3",
   "metadata": {},
   "outputs": [
    {
     "data": {
      "text/plain": [
       "False"
      ]
     },
     "execution_count": 35,
     "metadata": {},
     "output_type": "execute_result"
    }
   ],
   "source": [
    "9 in listelem"
   ]
  },
  {
   "cell_type": "code",
   "execution_count": 36,
   "id": "92804686-05a6-4b37-a2df-d6e680670dec",
   "metadata": {},
   "outputs": [
    {
     "data": {
      "text/plain": [
       "True"
      ]
     },
     "execution_count": 36,
     "metadata": {},
     "output_type": "execute_result"
    }
   ],
   "source": [
    "9 not in listelem"
   ]
  },
  {
   "cell_type": "code",
   "execution_count": 38,
   "id": "aa3b478d-f849-45cd-8930-e0d20ac6ba1c",
   "metadata": {},
   "outputs": [
    {
     "name": "stdout",
     "output_type": "stream",
     "text": [
      "p is lesser\n"
     ]
    }
   ],
   "source": [
    "p=5\n",
    "q=7\n",
    "if p > q:\n",
    "    print(\"p is greater\")\n",
    "elif p < q:\n",
    "    print(\"p is lesser\")\n",
    "else:\n",
    "    print(\" p and q are having same values\")"
   ]
  },
  {
   "cell_type": "code",
   "execution_count": 40,
   "id": "b246b466-670c-4b4a-9c11-a605540532a3",
   "metadata": {},
   "outputs": [
    {
     "name": "stdin",
     "output_type": "stream",
     "text": [
      "enter the name of the student abc\n",
      "enter the 1st test 89\n",
      "enter the 2nd test 89\n",
      "enter the 3rd test 90\n"
     ]
    },
    {
     "name": "stdout",
     "output_type": "stream",
     "text": [
      "total mks of - name 268 abc\n",
      "perc is 89.33333333333333\n",
      "student secured Distinction\n"
     ]
    }
   ],
   "source": [
    "# using input() function along with the datatypes\n",
    "name=input(\"enter the name of the student\")\n",
    "mk1=int(input(\"enter the 1st test\"))\n",
    "mk2=int(input(\"enter the 2nd test\"))\n",
    "mk3=int(input(\"enter the 3rd test\"))\n",
    "total=mk1+mk2+mk3\n",
    "print(\"total mks of -\",\"name\", total, name)\n",
    "perc=total/3\n",
    "print(\"perc is\",perc)\n",
    "if perc > 90:\n",
    "    print(\"student secured Merit grade\")\n",
    "elif perc >=75 and perc <90:\n",
    "    print(\"student secured Distinction\")\n",
    "else:\n",
    "    print(\"student secured Pass grade\")"
   ]
  },
  {
   "cell_type": "code",
   "execution_count": 6,
   "id": "f932d4ad-e529-48d3-895c-44f06896bdb4",
   "metadata": {},
   "outputs": [
    {
     "name": "stdin",
     "output_type": "stream",
     "text": [
      "enter the length 5\n",
      "enter the breadth 6\n"
     ]
    },
    {
     "name": "stdout",
     "output_type": "stream",
     "text": [
      "this shape is a rectangle\n",
      "area of rectangle is 30\n"
     ]
    }
   ],
   "source": [
    "#caclulating area of rectangle and calculating area of square and then find out the shape according to the values given\n",
    "#Ar=l*b\n",
    "#As=side*side\n",
    "l=int(input(\"enter the length\"))\n",
    "b=int(input(\"enter the breadth\"))\n",
    "#s=int(input(\"enter the side\"))\n",
    "#following is the nested if\n",
    "if(l>0) and (b>0):\n",
    "    if(l==b):\n",
    "        print(\"this shape is a  square\")\n",
    "        As=l*l\n",
    "        print(\"area of square is\",As)\n",
    "    else:\n",
    "        print(\"this shape is a rectangle\")\n",
    "        Ar=l*b\n",
    "        print(\"area of rectangle is\",Ar)\n",
    "else:\n",
    "    print(\"such values are not allowed for calculating area of rect and sqr\")\n",
    "\n"
   ]
  },
  {
   "cell_type": "code",
   "execution_count": 8,
   "id": "538a8284-9d7d-433c-83d6-7625934b413b",
   "metadata": {},
   "outputs": [
    {
     "name": "stdout",
     "output_type": "stream",
     "text": [
      "x is less than y\n"
     ]
    }
   ],
   "source": [
    "x,y=1,8\n",
    "st=\"x is less than y\" if(x<y) else \"x must be greater than y\"\n",
    "print(st)"
   ]
  },
  {
   "cell_type": "code",
   "execution_count": 19,
   "id": "d1db48a1-a4b7-433d-ad7d-fdd58f6e635e",
   "metadata": {},
   "outputs": [
    {
     "name": "stdin",
     "output_type": "stream",
     "text": [
      "Enter x 3\n",
      "Enter y 4\n",
      "Enter z 3\n"
     ]
    },
    {
     "name": "stdout",
     "output_type": "stream",
     "text": [
      "they are same\n"
     ]
    }
   ],
   "source": [
    "#highest of the 3 nos\n",
    "x=int(input(\"Enter x\"))  #2\n",
    "y=int(input(\"Enter y\"))  #4\n",
    "z=int(input(\"Enter z\"))  #3\n",
    "if(x!=y) and (y!=z) and (z!=x): #dry run\n",
    "    if (x> y) and (x>z):\n",
    "        print(\"x is highest\")\n",
    "    elif(y>z) and (y>x):\n",
    "        print(\"y is highest\")\n",
    "    else:\n",
    "        print(\"z is highest\")\n",
    "else:\n",
    "    print(\"they are same\")\n",
    "    \n",
    "    \n",
    "    "
   ]
  },
  {
   "cell_type": "code",
   "execution_count": 22,
   "id": "f273255e-8da6-4f07-80ff-66cdeb478f3b",
   "metadata": {},
   "outputs": [
    {
     "name": "stdout",
     "output_type": "stream",
     "text": [
      "the value of i is 1\n",
      "the value of i is 2\n",
      "the value of i is 3\n",
      "the value of i is 4\n",
      "the value of i is 5\n"
     ]
    }
   ],
   "source": [
    "#if is a condition  - executes only once\n",
    "#while is used for iteration\n",
    "i=1\n",
    "while i<=5:\n",
    "    print(\"the value of i is\",i)  #1   2   3  4  5\n",
    "    i+=1  #or i=i+1"
   ]
  },
  {
   "cell_type": "code",
   "execution_count": 23,
   "id": "351c4d02-fe8c-431d-bb78-ff4ad3f8752d",
   "metadata": {},
   "outputs": [
    {
     "name": "stdout",
     "output_type": "stream",
     "text": [
      "the value of i is 10\n",
      "the value of i is 9\n",
      "the value of i is 8\n",
      "the value of i is 7\n",
      "the value of i is 6\n",
      "the value of i is 5\n",
      "the value of i is 4\n",
      "the value of i is 3\n",
      "the value of i is 2\n",
      "the value of i is 1\n"
     ]
    }
   ],
   "source": [
    "i=10\n",
    "while i>=1:\n",
    "    print(\"the value of i is\",i)  \n",
    "    i=i-1 "
   ]
  },
  {
   "cell_type": "code",
   "execution_count": null,
   "id": "5d4c56c1-e10d-4ef1-8151-e9a1cc9ed986",
   "metadata": {},
   "outputs": [],
   "source": [
    "#syntax of while\n",
    "'''intialization\n",
    "while condition:\n",
    "    stmt \n",
    "    stmt..\n",
    "    incre/decre'''\n",
    "# write down a code to display nos 1   3   5   7   9"
   ]
  }
 ],
 "metadata": {
  "kernelspec": {
   "display_name": "Python 3 (ipykernel)",
   "language": "python",
   "name": "python3"
  },
  "language_info": {
   "codemirror_mode": {
    "name": "ipython",
    "version": 3
   },
   "file_extension": ".py",
   "mimetype": "text/x-python",
   "name": "python",
   "nbconvert_exporter": "python",
   "pygments_lexer": "ipython3",
   "version": "3.12.0"
  }
 },
 "nbformat": 4,
 "nbformat_minor": 5
}
