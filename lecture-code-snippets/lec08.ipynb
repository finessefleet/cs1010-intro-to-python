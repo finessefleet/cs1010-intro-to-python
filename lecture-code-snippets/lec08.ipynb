{
 "cells": [
  {
   "cell_type": "code",
   "execution_count": null,
   "id": "13abe5e7-80a1-495e-a7ce-60eeab1fc333",
   "metadata": {},
   "outputs": [],
   "source": [
    "#datatypes , int , float, string, \n",
    "#identifiers\n",
    "#different system-defined functions - print, input, type\n",
    "#IDLE\n",
    "#smart editor Jupiter Notebook\n",
    "#simple pgm - to find out the area of circle , area of rectangle and square, stud mks calc\n",
    "#comments - single line and the multiline comments\n",
    "#escape sequences - \\t and \\n\n"
   ]
  },
  {
   "cell_type": "code",
   "execution_count": 1,
   "id": "828db053-f9cf-48b3-8afc-0355da6d5644",
   "metadata": {},
   "outputs": [
    {
     "data": {
      "text/plain": [
       "True"
      ]
     },
     "execution_count": 1,
     "metadata": {},
     "output_type": "execute_result"
    }
   ],
   "source": [
    "a=67\n",
    "b=34.2\n",
    "c=\"Python\"\n",
    "a>b"
   ]
  },
  {
   "cell_type": "code",
   "execution_count": 2,
   "id": "c3ef5656-10da-4976-9784-6bae56dfbfd6",
   "metadata": {},
   "outputs": [
    {
     "name": "stdout",
     "output_type": "stream",
     "text": [
      "67\n",
      "34.2\n",
      "Python\n"
     ]
    }
   ],
   "source": [
    "print(a)  #system defined fn\n",
    "print(b)\n",
    "print(c)"
   ]
  },
  {
   "cell_type": "code",
   "execution_count": 5,
   "id": "dd3176a1-27ae-45dc-b3a8-f3670fde4e5d",
   "metadata": {},
   "outputs": [
    {
     "name": "stdout",
     "output_type": "stream",
     "text": [
      "<class 'int'>\n",
      "<class 'float'>\n",
      "<class 'str'>\n",
      "<class 'bool'>\n"
     ]
    }
   ],
   "source": [
    "print(type(a))\n",
    "print(type(b))\n",
    "print(type(c))\n",
    "print(type(a>b))"
   ]
  },
  {
   "cell_type": "code",
   "execution_count": 9,
   "id": "d46312ed-ab90-46e1-9fc5-8b8ac29351b4",
   "metadata": {},
   "outputs": [
    {
     "name": "stdin",
     "output_type": "stream",
     "text": [
      "enter the name of the student abc\n",
      "enter the 1st test 78\n",
      "enter the 2nd test 89\n",
      "enter the 3rd test 90\n"
     ]
    },
    {
     "name": "stdout",
     "output_type": "stream",
     "text": [
      "total mks of - name 257 abc\n"
     ]
    },
    {
     "data": {
      "text/plain": [
       "' this program calculates the total of the marks\\nI hope you understood it'"
      ]
     },
     "execution_count": 9,
     "metadata": {},
     "output_type": "execute_result"
    }
   ],
   "source": [
    "# using input() function along with the datatypes\n",
    "name=input(\"enter the name of the student\")\n",
    "mk1=int(input(\"enter the 1st test\"))\n",
    "mk2=int(input(\"enter the 2nd test\"))\n",
    "mk3=int(input(\"enter the 3rd test\"))\n",
    "total=mk1+mk2+mk3\n",
    "print(\"total mks of -\",\"name\", total, name)\n",
    "\"\"\" this program calculates the total of the marks\n",
    "I hope you understood it\"\"\"\n",
    "\n",
    "\n"
   ]
  },
  {
   "cell_type": "code",
   "execution_count": 10,
   "id": "f8468adf-91dc-40da-9e50-451eea2e3db5",
   "metadata": {},
   "outputs": [
    {
     "name": "stdout",
     "output_type": "stream",
     "text": [
      "140722801988088\n"
     ]
    }
   ],
   "source": [
    "print(id(a))"
   ]
  },
  {
   "cell_type": "code",
   "execution_count": 13,
   "id": "88006c79-5fae-41e6-a43d-f6688479de92",
   "metadata": {},
   "outputs": [
    {
     "data": {
      "text/plain": [
       "56"
      ]
     },
     "execution_count": 13,
     "metadata": {},
     "output_type": "execute_result"
    }
   ],
   "source": [
    "b1ab=56\n",
    "b1ab"
   ]
  },
  {
   "cell_type": "code",
   "execution_count": 14,
   "id": "83e22e5f-b591-4039-8920-fe043f6ddd5b",
   "metadata": {},
   "outputs": [],
   "source": [
    "a=b=c=90\n"
   ]
  },
  {
   "cell_type": "code",
   "execution_count": 15,
   "id": "bde41dfc-33db-468e-9bdf-0f54b509c84a",
   "metadata": {},
   "outputs": [
    {
     "name": "stdout",
     "output_type": "stream",
     "text": [
      "90\n",
      "90\n"
     ]
    }
   ],
   "source": [
    "print(a)\n",
    "print(b)"
   ]
  },
  {
   "cell_type": "code",
   "execution_count": 16,
   "id": "2f98cf9c-8207-466b-866c-e507c07503be",
   "metadata": {},
   "outputs": [
    {
     "name": "stdout",
     "output_type": "stream",
     "text": [
      "x \t y \t z are 20 30 40\n"
     ]
    }
   ],
   "source": [
    "x,y,z=20,30,40\n",
    "print(\"x \\t y \\t z are\",x,y,z)"
   ]
  },
  {
   "cell_type": "code",
   "execution_count": 22,
   "id": "168bcefe-1bf4-438e-8dd5-2d284d4c97ec",
   "metadata": {},
   "outputs": [
    {
     "name": "stdout",
     "output_type": "stream",
     "text": [
      "3.0\n"
     ]
    }
   ],
   "source": [
    "x=math.sqrt(9)\n",
    "print(x)"
   ]
  },
  {
   "cell_type": "code",
   "execution_count": 21,
   "id": "8cb55303-c692-4f27-b054-e4b2961e410f",
   "metadata": {},
   "outputs": [
    {
     "name": "stdout",
     "output_type": "stream",
     "text": [
      "35\n"
     ]
    }
   ],
   "source": [
    "import math\n",
    "y=math.ceil(34.7)\n",
    "print(y)"
   ]
  },
  {
   "cell_type": "code",
   "execution_count": 24,
   "id": "58fec5ca-e6c9-4c20-8d9b-76c40a5ba736",
   "metadata": {},
   "outputs": [
    {
     "name": "stdout",
     "output_type": "stream",
     "text": [
      "34\n"
     ]
    }
   ],
   "source": [
    "z=math.floor(34.2)\n",
    "print(z)"
   ]
  },
  {
   "cell_type": "code",
   "execution_count": 25,
   "id": "6e9e2998-6d46-44bb-8e79-34e5d7c1f81b",
   "metadata": {},
   "outputs": [
    {
     "data": {
      "text/plain": [
       "90"
      ]
     },
     "execution_count": 25,
     "metadata": {},
     "output_type": "execute_result"
    }
   ],
   "source": [
    "a\n"
   ]
  },
  {
   "cell_type": "code",
   "execution_count": 26,
   "id": "fb490f81-421e-4a26-8393-f1cad0b7bc06",
   "metadata": {},
   "outputs": [],
   "source": [
    "del a"
   ]
  },
  {
   "cell_type": "code",
   "execution_count": 27,
   "id": "ce598642-6e7a-4fec-8d9b-af93b85fa6bf",
   "metadata": {},
   "outputs": [
    {
     "ename": "NameError",
     "evalue": "name 'a' is not defined",
     "output_type": "error",
     "traceback": [
      "\u001b[1;31m---------------------------------------------------------------------------\u001b[0m",
      "\u001b[1;31mNameError\u001b[0m                                 Traceback (most recent call last)",
      "Cell \u001b[1;32mIn[27], line 1\u001b[0m\n\u001b[1;32m----> 1\u001b[0m \u001b[43ma\u001b[49m\n",
      "\u001b[1;31mNameError\u001b[0m: name 'a' is not defined"
     ]
    }
   ],
   "source": [
    "a\n"
   ]
  },
  {
   "cell_type": "code",
   "execution_count": 30,
   "id": "be439c10-a016-43eb-9ad5-8404f99d6f81",
   "metadata": {},
   "outputs": [
    {
     "name": "stdout",
     "output_type": "stream",
     "text": [
      "False\n",
      "False\n",
      "True\n",
      "False\n",
      "True\n",
      "True\n"
     ]
    }
   ],
   "source": [
    "\"\"\"relational operators,they allow us to maintain the relationship between \n",
    "more than one variable/expression\"\"\"\n",
    "#> >= <  <=  ==  !=\n",
    "a=10\n",
    "b=20\n",
    "\n",
    "print(a==b)  #relational op\n",
    "print(a>b)\n",
    "print(a<b)\n",
    "print(a>=b)\n",
    "print(a<=b)\n",
    "print(a!=b)"
   ]
  },
  {
   "cell_type": "code",
   "execution_count": 31,
   "id": "70d6f0eb-e520-4c44-80a7-bfa370daea52",
   "metadata": {},
   "outputs": [
    {
     "name": "stdout",
     "output_type": "stream",
     "text": [
      "20\n"
     ]
    }
   ],
   "source": [
    "a=b \n",
    "print(a)"
   ]
  },
  {
   "cell_type": "code",
   "execution_count": null,
   "id": "60953e63-84d9-4cc0-a73c-d747a531031c",
   "metadata": {},
   "outputs": [],
   "source": [
    "#sequential \n",
    "#conditional\n",
    "#iteration"
   ]
  },
  {
   "cell_type": "code",
   "execution_count": null,
   "id": "4b1e18c5-de81-4043-b1f6-7d8983aae6cb",
   "metadata": {},
   "outputs": [],
   "source": [
    "#if condition\n",
    "'''if <condition>:\n",
    "    statement'''   #syntax of if condition"
   ]
  },
  {
   "cell_type": "code",
   "execution_count": 35,
   "id": "1ff8dd5f-5b4d-43ca-b0d9-7e4b62d81c7b",
   "metadata": {},
   "outputs": [
    {
     "name": "stdout",
     "output_type": "stream",
     "text": [
      "it is a positive no.\n"
     ]
    }
   ],
   "source": [
    "p=10\n",
    "if p>0:\n",
    "    print(\"it is a positive no.\")"
   ]
  },
  {
   "cell_type": "code",
   "execution_count": 39,
   "id": "0c575e51-7612-45bb-8006-c217bc3b32fb",
   "metadata": {},
   "outputs": [
    {
     "name": "stdin",
     "output_type": "stream",
     "text": [
      "enter the value for p 45\n"
     ]
    },
    {
     "name": "stdout",
     "output_type": "stream",
     "text": [
      "p is positive\n"
     ]
    }
   ],
   "source": [
    "p=int(input(\"enter the value for p\"))\n",
    "if p>0:   #identation op\n",
    "    print(\"p is positive\")\n",
    "else:\n",
    "    print(\"p is negative\")"
   ]
  },
  {
   "cell_type": "code",
   "execution_count": 2,
   "id": "77ce8a49-e8dd-4c02-8c37-f1d9aa719544",
   "metadata": {},
   "outputs": [
    {
     "name": "stdout",
     "output_type": "stream",
     "text": [
      "-6\n",
      "3\n"
     ]
    }
   ],
   "source": [
    "#session/lecture 4 \n",
    "x=-6\n",
    "y=3\n",
    "print(x)\n",
    "print(y)\n"
   ]
  },
  {
   "cell_type": "code",
   "execution_count": 3,
   "id": "c9ed6168-2d9a-4de6-b557-2a89991b9151",
   "metadata": {},
   "outputs": [
    {
     "data": {
      "text/plain": [
       "1"
      ]
     },
     "execution_count": 3,
     "metadata": {},
     "output_type": "execute_result"
    }
   ],
   "source": [
    "a=7\n",
    "b=2\n",
    "a%b"
   ]
  },
  {
   "cell_type": "code",
   "execution_count": 4,
   "id": "543535d1-8d68-481b-a718-1ae2a65b4c91",
   "metadata": {},
   "outputs": [
    {
     "name": "stdout",
     "output_type": "stream",
     "text": [
      "7\n",
      "2\n"
     ]
    }
   ],
   "source": [
    "print(a)\n",
    "print(b)"
   ]
  },
  {
   "cell_type": "code",
   "execution_count": 5,
   "id": "d56df280-888b-41c1-a089-6bbdf47e28e6",
   "metadata": {},
   "outputs": [
    {
     "data": {
      "text/plain": [
       "3"
      ]
     },
     "execution_count": 5,
     "metadata": {},
     "output_type": "execute_result"
    }
   ],
   "source": [
    "a//b"
   ]
  },
  {
   "cell_type": "code",
   "execution_count": 6,
   "id": "2fca7249-1582-4996-a2f7-fa3baec63321",
   "metadata": {},
   "outputs": [
    {
     "data": {
      "text/plain": [
       "3.5"
      ]
     },
     "execution_count": 6,
     "metadata": {},
     "output_type": "execute_result"
    }
   ],
   "source": [
    "a/b"
   ]
  },
  {
   "cell_type": "code",
   "execution_count": 7,
   "id": "136f595e-6cfb-46a4-8d03-cc73b63d43b5",
   "metadata": {},
   "outputs": [
    {
     "data": {
      "text/plain": [
       "8"
      ]
     },
     "execution_count": 7,
     "metadata": {},
     "output_type": "execute_result"
    }
   ],
   "source": [
    "a=2\n",
    "b=3\n",
    "a**b\n"
   ]
  },
  {
   "cell_type": "code",
   "execution_count": 14,
   "id": "7a38e15d-23fe-45d3-9cc7-afde6c9115e1",
   "metadata": {},
   "outputs": [
    {
     "data": {
      "text/plain": [
       "16"
      ]
     },
     "execution_count": 14,
     "metadata": {},
     "output_type": "execute_result"
    }
   ],
   "source": [
    "\n",
    "x=pow(4,2)  #system defined fn\n",
    "x"
   ]
  },
  {
   "cell_type": "code",
   "execution_count": 15,
   "id": "1b57dc51-66c1-4e97-b87e-8a489185b06b",
   "metadata": {},
   "outputs": [
    {
     "data": {
      "text/plain": [
       "True"
      ]
     },
     "execution_count": 15,
     "metadata": {},
     "output_type": "execute_result"
    }
   ],
   "source": [
    "a=5\n",
    "b=5\n",
    "a>=b"
   ]
  },
  {
   "cell_type": "code",
   "execution_count": 16,
   "id": "b3440354-82d5-46a3-b395-ee526306a0f1",
   "metadata": {},
   "outputs": [
    {
     "data": {
      "text/plain": [
       "5"
      ]
     },
     "execution_count": 16,
     "metadata": {},
     "output_type": "execute_result"
    }
   ],
   "source": [
    "a and b"
   ]
  },
  {
   "cell_type": "code",
   "execution_count": 17,
   "id": "13582005-bfb3-4ddd-93ea-120b920d3270",
   "metadata": {},
   "outputs": [
    {
     "data": {
      "text/plain": [
       "True"
      ]
     },
     "execution_count": 17,
     "metadata": {},
     "output_type": "execute_result"
    }
   ],
   "source": [
    "a==5 and b==5"
   ]
  },
  {
   "cell_type": "code",
   "execution_count": 18,
   "id": "8c9c6734-c8ee-4824-b4ab-880db64ed3be",
   "metadata": {},
   "outputs": [
    {
     "data": {
      "text/plain": [
       "False"
      ]
     },
     "execution_count": 18,
     "metadata": {},
     "output_type": "execute_result"
    }
   ],
   "source": [
    "a>5 and b==5"
   ]
  },
  {
   "cell_type": "code",
   "execution_count": 19,
   "id": "e153fb68-0a8b-44df-a4fa-72431b5d6843",
   "metadata": {},
   "outputs": [
    {
     "data": {
      "text/plain": [
       "True"
      ]
     },
     "execution_count": 19,
     "metadata": {},
     "output_type": "execute_result"
    }
   ],
   "source": [
    "a>=5 and b==5"
   ]
  },
  {
   "cell_type": "code",
   "execution_count": 20,
   "id": "8dddda3f-3ade-41ff-bb7f-dd7839100e38",
   "metadata": {},
   "outputs": [
    {
     "data": {
      "text/plain": [
       "True"
      ]
     },
     "execution_count": 20,
     "metadata": {},
     "output_type": "execute_result"
    }
   ],
   "source": [
    "a>=5 or b==5"
   ]
  },
  {
   "cell_type": "code",
   "execution_count": 21,
   "id": "b1150f13-592f-4cea-8146-5819d89c1bb6",
   "metadata": {},
   "outputs": [
    {
     "data": {
      "text/plain": [
       "True"
      ]
     },
     "execution_count": 21,
     "metadata": {},
     "output_type": "execute_result"
    }
   ],
   "source": [
    "a>=5 or b==4"
   ]
  },
  {
   "cell_type": "code",
   "execution_count": 22,
   "id": "660c0db9-95cb-4bad-a7f7-fed4a7776987",
   "metadata": {},
   "outputs": [
    {
     "data": {
      "text/plain": [
       "False"
      ]
     },
     "execution_count": 22,
     "metadata": {},
     "output_type": "execute_result"
    }
   ],
   "source": [
    "a>5 or b==4"
   ]
  },
  {
   "cell_type": "code",
   "execution_count": 23,
   "id": "ccc55dde-1843-481b-ae98-eacd7e6368a0",
   "metadata": {},
   "outputs": [
    {
     "data": {
      "text/plain": [
       "False"
      ]
     },
     "execution_count": 23,
     "metadata": {},
     "output_type": "execute_result"
    }
   ],
   "source": [
    "not(a and b)"
   ]
  },
  {
   "cell_type": "code",
   "execution_count": 26,
   "id": "1ef35ca1-3a89-4f0c-ac2a-e4e6f8a2c562",
   "metadata": {},
   "outputs": [
    {
     "name": "stdout",
     "output_type": "stream",
     "text": [
      "15\n",
      "5\n",
      "20\n",
      "5\n"
     ]
    }
   ],
   "source": [
    "print(a)\n",
    "print(b)\n",
    "a+=b  #meaning is a=a+b  a=5 , b=5\n",
    "print(a)\n",
    "print(b)"
   ]
  },
  {
   "cell_type": "code",
   "execution_count": 27,
   "id": "a14a202a-b06b-49ed-a7e8-0edaa00d7222",
   "metadata": {},
   "outputs": [
    {
     "ename": "TypeError",
     "evalue": "argument of type 'int' is not iterable",
     "output_type": "error",
     "traceback": [
      "\u001b[1;31m---------------------------------------------------------------------------\u001b[0m",
      "\u001b[1;31mTypeError\u001b[0m                                 Traceback (most recent call last)",
      "Cell \u001b[1;32mIn[27], line 3\u001b[0m\n\u001b[0;32m      1\u001b[0m a\u001b[38;5;241m=\u001b[39m\u001b[38;5;241m10\u001b[39m\n\u001b[0;32m      2\u001b[0m b\u001b[38;5;241m=\u001b[39m\u001b[38;5;241m20\u001b[39m\n\u001b[1;32m----> 3\u001b[0m \u001b[43ma\u001b[49m\u001b[43m \u001b[49m\u001b[38;5;129;43;01min\u001b[39;49;00m\u001b[43m \u001b[49m\u001b[43mb\u001b[49m\n",
      "\u001b[1;31mTypeError\u001b[0m: argument of type 'int' is not iterable"
     ]
    }
   ],
   "source": [
    "a=10\n",
    "b=20\n",
    "a in b"
   ]
  },
  {
   "cell_type": "code",
   "execution_count": 28,
   "id": "2106a6f7-f354-4f10-8792-fe0171b85e0b",
   "metadata": {},
   "outputs": [
    {
     "data": {
      "text/plain": [
       "True"
      ]
     },
     "execution_count": 28,
     "metadata": {},
     "output_type": "execute_result"
    }
   ],
   "source": [
    "x=[5,6,7]   #list in Python\n",
    "6 in x\n"
   ]
  },
  {
   "cell_type": "code",
   "execution_count": 29,
   "id": "ea9bf35a-eba6-475c-b562-7d86af49a31c",
   "metadata": {},
   "outputs": [
    {
     "data": {
      "text/plain": [
       "False"
      ]
     },
     "execution_count": 29,
     "metadata": {},
     "output_type": "execute_result"
    }
   ],
   "source": [
    "8 in x"
   ]
  },
  {
   "cell_type": "code",
   "execution_count": 30,
   "id": "fb8cf2e4-9158-4603-9f4c-0da56bc2a124",
   "metadata": {},
   "outputs": [
    {
     "data": {
      "text/plain": [
       "True"
      ]
     },
     "execution_count": 30,
     "metadata": {},
     "output_type": "execute_result"
    }
   ],
   "source": [
    "8 not in x"
   ]
  },
  {
   "cell_type": "code",
   "execution_count": 32,
   "id": "9e99d6d9-946f-414e-abbe-3ddc3d9ec50c",
   "metadata": {},
   "outputs": [
    {
     "data": {
      "text/plain": [
       "[6, 7.2, 'a', 'Python', True]"
      ]
     },
     "execution_count": 32,
     "metadata": {},
     "output_type": "execute_result"
    }
   ],
   "source": [
    "listelem=[6,7.2,'a','Python',True]\n",
    "listelem"
   ]
  },
  {
   "cell_type": "code",
   "execution_count": 33,
   "id": "5f3f784b-aed3-47e5-816f-bd0f41cee9c0",
   "metadata": {},
   "outputs": [
    {
     "data": {
      "text/plain": [
       "False"
      ]
     },
     "execution_count": 33,
     "metadata": {},
     "output_type": "execute_result"
    }
   ],
   "source": [
    "b in listelem"
   ]
  },
  {
   "cell_type": "code",
   "execution_count": 34,
   "id": "75ccc0eb-fa76-41c8-bbe3-118f816a838d",
   "metadata": {},
   "outputs": [
    {
     "data": {
      "text/plain": [
       "True"
      ]
     },
     "execution_count": 34,
     "metadata": {},
     "output_type": "execute_result"
    }
   ],
   "source": [
    "p=6\n",
    "p in listelem"
   ]
  },
  {
   "cell_type": "code",
   "execution_count": 35,
   "id": "d3a625d0-66d2-4174-8df0-ff5a50af1cd3",
   "metadata": {},
   "outputs": [
    {
     "data": {
      "text/plain": [
       "False"
      ]
     },
     "execution_count": 35,
     "metadata": {},
     "output_type": "execute_result"
    }
   ],
   "source": [
    "9 in listelem"
   ]
  },
  {
   "cell_type": "code",
   "execution_count": 36,
   "id": "92804686-05a6-4b37-a2df-d6e680670dec",
   "metadata": {},
   "outputs": [
    {
     "data": {
      "text/plain": [
       "True"
      ]
     },
     "execution_count": 36,
     "metadata": {},
     "output_type": "execute_result"
    }
   ],
   "source": [
    "9 not in listelem"
   ]
  },
  {
   "cell_type": "code",
   "execution_count": 38,
   "id": "aa3b478d-f849-45cd-8930-e0d20ac6ba1c",
   "metadata": {},
   "outputs": [
    {
     "name": "stdout",
     "output_type": "stream",
     "text": [
      "p is lesser\n"
     ]
    }
   ],
   "source": [
    "p=5\n",
    "q=7\n",
    "if p > q:\n",
    "    print(\"p is greater\")\n",
    "elif p < q:\n",
    "    print(\"p is lesser\")\n",
    "else:\n",
    "    print(\" p and q are having same values\")"
   ]
  },
  {
   "cell_type": "code",
   "execution_count": 3,
   "id": "b246b466-670c-4b4a-9c11-a605540532a3",
   "metadata": {},
   "outputs": [
    {
     "name": "stdin",
     "output_type": "stream",
     "text": [
      "enter the name of the student abc\n",
      "enter the 1st test 56\n",
      "enter the 2nd test 34\n",
      "enter the 3rd test 12\n"
     ]
    },
    {
     "name": "stdout",
     "output_type": "stream",
     "text": [
      "total mks of - name 102 abc\n",
      "perc is 34.0\n",
      "student secured Pass grade\n"
     ]
    },
    {
     "name": "stdin",
     "output_type": "stream",
     "text": [
      "enter the name of the student abcd\n",
      "enter the 1st test 56\n",
      "enter the 2nd test 89\n",
      "enter the 3rd test 66\n"
     ]
    },
    {
     "name": "stdout",
     "output_type": "stream",
     "text": [
      "total mks of - name 211 abcd\n",
      "perc is 70.33333333333333\n",
      "student secured Pass grade\n"
     ]
    },
    {
     "name": "stdin",
     "output_type": "stream",
     "text": [
      "enter the name of the student abcde\n",
      "enter the 1st test 67\n",
      "enter the 2nd test 34\n",
      "enter the 3rd test 90\n"
     ]
    },
    {
     "name": "stdout",
     "output_type": "stream",
     "text": [
      "total mks of - name 191 abcde\n",
      "perc is 63.666666666666664\n",
      "student secured Pass grade\n"
     ]
    }
   ],
   "source": [
    "# using input() function along with the datatypes \n",
    "#calculating the grades for 3 students\n",
    "i=1\n",
    "while i<=3:\n",
    "    name=input(\"enter the name of the student\")\n",
    "    mk1=int(input(\"enter the 1st test\"))\n",
    "    mk2=int(input(\"enter the 2nd test\"))\n",
    "    mk3=int(input(\"enter the 3rd test\"))\n",
    "    total=mk1+mk2+mk3\n",
    "    print(\"total mks of -\",\"name\", total, name)\n",
    "    perc=total/3\n",
    "    print(\"perc is\",perc)\n",
    "    if perc > 90:\n",
    "        print(\"student secured Merit grade\")\n",
    "    elif perc >=75 and perc <90:\n",
    "        print(\"student secured Distinction\")\n",
    "    else:\n",
    "        print(\"student secured Pass grade\")\n",
    "    i=i+1"
   ]
  },
  {
   "cell_type": "code",
   "execution_count": 6,
   "id": "f932d4ad-e529-48d3-895c-44f06896bdb4",
   "metadata": {},
   "outputs": [
    {
     "name": "stdin",
     "output_type": "stream",
     "text": [
      "enter the length 5\n",
      "enter the breadth 6\n"
     ]
    },
    {
     "name": "stdout",
     "output_type": "stream",
     "text": [
      "this shape is a rectangle\n",
      "area of rectangle is 30\n"
     ]
    }
   ],
   "source": [
    "#caclulating area of rectangle and calculating area of square and then find out the shape according to the values given\n",
    "#Ar=l*b\n",
    "#As=side*side\n",
    "l=int(input(\"enter the length\"))     #3    7     8\n",
    "b=int(input(\"enter the breadth\"))    #4    17    2\n",
    "#s=int(input(\"enter the side\"))\n",
    "#following is the nested if\n",
    "if(l>0) and (b>0):\n",
    "    if(l==b):\n",
    "        print(\"this shape is a  square\")\n",
    "        As=l*l\n",
    "        print(\"area of square is\",As)\n",
    "    else:\n",
    "        print(\"this shape is a rectangle\")\n",
    "        Ar=l*b\n",
    "        print(\"area of rectangle is\",Ar)\n",
    "else:\n",
    "    print(\"such values are not allowed for calculating area of rect and sqr\")\n",
    "\n"
   ]
  },
  {
   "cell_type": "code",
   "execution_count": 8,
   "id": "538a8284-9d7d-433c-83d6-7625934b413b",
   "metadata": {},
   "outputs": [
    {
     "name": "stdout",
     "output_type": "stream",
     "text": [
      "x is less than y\n"
     ]
    }
   ],
   "source": [
    "x,y=1,8\n",
    "st=\"x is less than y\" if(x<y) else \"x must be greater than y\"\n",
    "print(st)"
   ]
  },
  {
   "cell_type": "code",
   "execution_count": 19,
   "id": "d1db48a1-a4b7-433d-ad7d-fdd58f6e635e",
   "metadata": {},
   "outputs": [
    {
     "name": "stdin",
     "output_type": "stream",
     "text": [
      "Enter x 3\n",
      "Enter y 4\n",
      "Enter z 3\n"
     ]
    },
    {
     "name": "stdout",
     "output_type": "stream",
     "text": [
      "they are same\n"
     ]
    }
   ],
   "source": [
    "#highest of the 3 nos\n",
    "x=int(input(\"Enter x\"))  #2\n",
    "y=int(input(\"Enter y\"))  #4\n",
    "z=int(input(\"Enter z\"))  #3\n",
    "if(x!=y) and (y!=z) and (z!=x): #dry run\n",
    "    if (x> y) and (x>z):\n",
    "        print(\"x is highest\")\n",
    "    elif(y>z) and (y>x):\n",
    "        print(\"y is highest\")\n",
    "    else:\n",
    "        print(\"z is highest\")\n",
    "else:\n",
    "    print(\"they are same\")\n",
    "    \n",
    "    \n",
    "    "
   ]
  },
  {
   "cell_type": "code",
   "execution_count": null,
   "id": "a5938194-5874-42b9-aa26-9c618b57fe14",
   "metadata": {},
   "outputs": [],
   "source": []
  },
  {
   "cell_type": "code",
   "execution_count": 2,
   "id": "f273255e-8da6-4f07-80ff-66cdeb478f3b",
   "metadata": {},
   "outputs": [
    {
     "name": "stdout",
     "output_type": "stream",
     "text": [
      "the value of i is 1\n",
      "the value of i is, after incrementation 2\n",
      "the value of i is 2\n",
      "the value of i is, after incrementation 3\n",
      "the value of i is 3\n",
      "the value of i is, after incrementation 4\n",
      "the value of i is 4\n",
      "the value of i is, after incrementation 5\n",
      "the value of i is 5\n",
      "the value of i is, after incrementation 6\n"
     ]
    }
   ],
   "source": [
    "#if is a condition  - executes only once\n",
    "#while is used for iteration\n",
    "i=1\n",
    "while i<=5:\n",
    "    print(\"the value of i is\",i)  #1   2   3  4  5  #dry run\n",
    "    i+=1  #or i=i+1\n",
    "    print(\"the value of i is, after incrementation\",i)"
   ]
  },
  {
   "cell_type": "code",
   "execution_count": 23,
   "id": "351c4d02-fe8c-431d-bb78-ff4ad3f8752d",
   "metadata": {},
   "outputs": [
    {
     "name": "stdout",
     "output_type": "stream",
     "text": [
      "the value of i is 10\n",
      "the value of i is 9\n",
      "the value of i is 8\n",
      "the value of i is 7\n",
      "the value of i is 6\n",
      "the value of i is 5\n",
      "the value of i is 4\n",
      "the value of i is 3\n",
      "the value of i is 2\n",
      "the value of i is 1\n"
     ]
    }
   ],
   "source": [
    "i=10\n",
    "while i>=1:\n",
    "    print(\"the value of i is\",i)  \n",
    "    i=i-1 "
   ]
  },
  {
   "cell_type": "code",
   "execution_count": null,
   "id": "5d4c56c1-e10d-4ef1-8151-e9a1cc9ed986",
   "metadata": {},
   "outputs": [],
   "source": [
    "#syntax of while\n",
    "'''intialization\n",
    "while condition:\n",
    "    stmt \n",
    "    stmt..\n",
    "    incre/decre'''\n",
    "# write down a code to display nos 1   3   5   7   9"
   ]
  },
  {
   "cell_type": "code",
   "execution_count": null,
   "id": "679f0ef4-2106-4205-9c6f-b8816c3276df",
   "metadata": {},
   "outputs": [],
   "source": [
    "#22/5  #exec it for 5 diff students using loop\n",
    "mk1=int(input(\"enter the 1st test\"))\n",
    "mk2=int(input(\"enter the 2nd test\"))\n",
    "mk3=int(input(\"enter the 3rd test\"))\n",
    "total=mk1+mk2+mk3\n",
    "print(\"total mks of -\",\"name\", total, name)\n",
    "perc=total/3\n",
    "print(\"perc is\",perc)\n",
    "if perc > 90:\n",
    "    print(\"student secured Merit grade\")\n",
    "elif perc >=75 and perc <90:\n",
    "    print(\"student secured Distinction\")\n",
    "else:\n",
    "    print(\"student secured Pass grade\")"
   ]
  },
  {
   "cell_type": "code",
   "execution_count": 7,
   "id": "49ed93f7-9d8c-4e8f-9185-c6dd0bc2600e",
   "metadata": {},
   "outputs": [
    {
     "name": "stdin",
     "output_type": "stream",
     "text": [
      "enter number 34\n",
      "enter number 12\n",
      "enter number 89\n",
      "enter number 32\n",
      "enter number 90\n"
     ]
    },
    {
     "name": "stdout",
     "output_type": "stream",
     "text": [
      "the total and avg are \t 257 \t 51.4\n"
     ]
    }
   ],
   "source": [
    "#Randomly take 5 nos(while loop) and calculate total and average\n",
    "i=1\n",
    "total=0\n",
    "while i<=5:\n",
    "    x=int(input(\"enter number\"))\n",
    "    i=i+1\n",
    "    total=total+x\n",
    "    avg=total/5\n",
    "print(\"the total and avg are \\t\",total,\"\\t\",avg)\n",
    "   \n",
    "\n",
    "\n"
   ]
  },
  {
   "cell_type": "code",
   "execution_count": 8,
   "id": "a492b745-e107-4373-9e2d-9ddbb1d42982",
   "metadata": {},
   "outputs": [
    {
     "name": "stdout",
     "output_type": "stream",
     "text": [
      "apple\n",
      "banana\n",
      "cherry\n"
     ]
    }
   ],
   "source": [
    "fruits=['apple','banana','cherry']   #traverse the list\n",
    "for i in fruits:\n",
    "    print(i)"
   ]
  },
  {
   "cell_type": "code",
   "execution_count": 9,
   "id": "c1c31ca2-bf31-4a43-afaf-64b988701a42",
   "metadata": {},
   "outputs": [
    {
     "name": "stdout",
     "output_type": "stream",
     "text": [
      "I\n",
      " \n",
      "l\n",
      "o\n",
      "v\n",
      "e\n",
      " \n",
      "P\n",
      "y\n",
      "t\n",
      "h\n",
      "o\n",
      "n\n",
      " \n",
      "P\n",
      "r\n",
      "o\n",
      "g\n",
      "r\n",
      "a\n",
      "m\n",
      "m\n",
      "i\n",
      "n\n",
      "g\n"
     ]
    }
   ],
   "source": [
    "for x in 'I love Python Programming':\n",
    "    print(x)"
   ]
  },
  {
   "cell_type": "code",
   "execution_count": 10,
   "id": "9f66b79a-25ac-4333-80fe-d998536eea6d",
   "metadata": {},
   "outputs": [
    {
     "name": "stdout",
     "output_type": "stream",
     "text": [
      "0\n",
      "1\n",
      "2\n"
     ]
    }
   ],
   "source": [
    "for i in range(0,3):\n",
    "    print(i)"
   ]
  },
  {
   "cell_type": "code",
   "execution_count": 12,
   "id": "9c47b499-cbe0-4e71-9e6a-455422b15db5",
   "metadata": {},
   "outputs": [
    {
     "name": "stdin",
     "output_type": "stream",
     "text": [
      "enter n 5\n"
     ]
    },
    {
     "name": "stdout",
     "output_type": "stream",
     "text": [
      "0\n",
      "1\n",
      "2\n",
      "3\n",
      "4\n"
     ]
    }
   ],
   "source": [
    "n=int(input(\"enter n\"))   #with 2 param in range()\n",
    "for y in range(0, n):\n",
    "    print(y)"
   ]
  },
  {
   "cell_type": "code",
   "execution_count": 13,
   "id": "eaaee968-49ad-4384-af4a-673606b1b712",
   "metadata": {},
   "outputs": [
    {
     "name": "stdout",
     "output_type": "stream",
     "text": [
      "Printing: 0\n",
      "Printing: 1\n",
      "Printing: 2\n"
     ]
    }
   ],
   "source": [
    "for x in range(3):   #one param in range()\n",
    "    print(\"Printing:\", x)"
   ]
  },
  {
   "cell_type": "code",
   "execution_count": 14,
   "id": "7f22522b-e9f0-472d-bf8a-e9579495a9d3",
   "metadata": {},
   "outputs": [
    {
     "name": "stdout",
     "output_type": "stream",
     "text": [
      "Printing with step: 1\n",
      "Printing with step: 4\n",
      "Printing with step: 7\n"
     ]
    }
   ],
   "source": [
    "for n in range(1, 10, 3):       #with 3 param , 3rd param is a step\n",
    "    print(\"Printing with step:\", n)"
   ]
  },
  {
   "cell_type": "code",
   "execution_count": 17,
   "id": "8b978fab-f71d-4767-b1ef-fc92c61ff844",
   "metadata": {},
   "outputs": [
    {
     "name": "stdout",
     "output_type": "stream",
     "text": [
      "2 * 1 = 2\n",
      "2 * 2 = 4\n",
      "2 * 3 = 6\n",
      "2 * 4 = 8\n",
      "2 * 5 = 10\n",
      "2 * 6 = 12\n",
      "2 * 7 = 14\n",
      "2 * 8 = 16\n",
      "2 * 9 = 18\n",
      "2 * 10 = 20\n"
     ]
    }
   ],
   "source": [
    "\n",
    "for n in range(1, 11):       #with 3 param\n",
    "    print(\"2 *\",n , \"=\", 2*n)\n",
    "    #print(\"Printing with step:\", n)"
   ]
  },
  {
   "cell_type": "code",
   "execution_count": 18,
   "id": "41e7f100-a085-40fd-899e-afa65e3881f8",
   "metadata": {},
   "outputs": [
    {
     "name": "stdout",
     "output_type": "stream",
     "text": [
      "Printing with step: 2\n",
      "Printing with step: 4\n",
      "Printing with step: 6\n",
      "Printing with step: 8\n",
      "Printing with step: 10\n",
      "Printing with step: 12\n",
      "Printing with step: 14\n",
      "Printing with step: 16\n",
      "Printing with step: 18\n",
      "Printing with step: 20\n"
     ]
    }
   ],
   "source": [
    "for n in range(2, 22, 2):       #with 3 param\n",
    "    print(\"Printing with step:\", n)"
   ]
  },
  {
   "cell_type": "code",
   "execution_count": 3,
   "id": "fe5d55b7-62fc-419f-9e3c-17029f249cd5",
   "metadata": {},
   "outputs": [
    {
     "name": "stdout",
     "output_type": "stream",
     "text": [
      "['x', 'y', 'z', 'Python', 'mobile', 'mango', 6.7, 100, True]\n",
      "x and y are 3 4\n"
     ]
    }
   ],
   "source": [
    "elem=['x','y','z','Python','mobile','mango',6.7,100,True]  #collection\n",
    "print(elem)\n",
    "x=3\n",
    "y=4\n",
    "z=9.7\n",
    "p=True\n",
    "print(\"x and y are\",x,y)"
   ]
  },
  {
   "cell_type": "code",
   "execution_count": 4,
   "id": "83b18422-1e46-40a8-9258-632781b7c27f",
   "metadata": {},
   "outputs": [],
   "source": [
    "del x"
   ]
  },
  {
   "cell_type": "code",
   "execution_count": 5,
   "id": "462e079f-629a-4417-92ec-5c9dfcb5542a",
   "metadata": {},
   "outputs": [
    {
     "ename": "NameError",
     "evalue": "name 'x' is not defined",
     "output_type": "error",
     "traceback": [
      "\u001b[1;31m---------------------------------------------------------------------------\u001b[0m",
      "\u001b[1;31mNameError\u001b[0m                                 Traceback (most recent call last)",
      "Cell \u001b[1;32mIn[5], line 1\u001b[0m\n\u001b[1;32m----> 1\u001b[0m \u001b[43mx\u001b[49m\n",
      "\u001b[1;31mNameError\u001b[0m: name 'x' is not defined"
     ]
    }
   ],
   "source": [
    "x"
   ]
  },
  {
   "cell_type": "code",
   "execution_count": 6,
   "id": "86feedbb-3ded-4a67-9b9e-9c70da18e97f",
   "metadata": {},
   "outputs": [
    {
     "data": {
      "text/plain": [
       "4"
      ]
     },
     "execution_count": 6,
     "metadata": {},
     "output_type": "execute_result"
    }
   ],
   "source": [
    "y"
   ]
  },
  {
   "cell_type": "code",
   "execution_count": 7,
   "id": "27d0e45f-c8ec-4a3b-b9e2-a319343a42bd",
   "metadata": {},
   "outputs": [
    {
     "data": {
      "text/plain": [
       "['x', 'y', 'z', 'Python', 'mobile', 'mango', 6.7, 100, True]"
      ]
     },
     "execution_count": 7,
     "metadata": {},
     "output_type": "execute_result"
    }
   ],
   "source": [
    "elem"
   ]
  },
  {
   "cell_type": "code",
   "execution_count": 8,
   "id": "846e5ba4-8ede-45d2-980e-6e0abdfdb215",
   "metadata": {},
   "outputs": [
    {
     "data": {
      "text/plain": [
       "'y'"
      ]
     },
     "execution_count": 8,
     "metadata": {},
     "output_type": "execute_result"
    }
   ],
   "source": [
    "elem[1]"
   ]
  },
  {
   "cell_type": "code",
   "execution_count": 9,
   "id": "9a081187-06d5-4ea9-af26-81a53631d87a",
   "metadata": {},
   "outputs": [
    {
     "data": {
      "text/plain": [
       "True"
      ]
     },
     "execution_count": 9,
     "metadata": {},
     "output_type": "execute_result"
    }
   ],
   "source": [
    "elem[-1]"
   ]
  },
  {
   "cell_type": "code",
   "execution_count": 10,
   "id": "a41a49b6-f164-4ac1-a931-bc1c53088228",
   "metadata": {},
   "outputs": [
    {
     "data": {
      "text/plain": [
       "'Python'"
      ]
     },
     "execution_count": 10,
     "metadata": {},
     "output_type": "execute_result"
    }
   ],
   "source": [
    "elem[3]"
   ]
  },
  {
   "cell_type": "code",
   "execution_count": 12,
   "id": "e3acf087-1e1f-4d65-a845-d3a6d3798dc2",
   "metadata": {},
   "outputs": [
    {
     "name": "stdout",
     "output_type": "stream",
     "text": [
      "mango\n",
      "6.7\n"
     ]
    }
   ],
   "source": [
    "print(elem[5])\n",
    "print(elem[-3])"
   ]
  },
  {
   "cell_type": "code",
   "execution_count": 14,
   "id": "31e07959-4f0f-495c-bf6b-f9df2de88c7e",
   "metadata": {},
   "outputs": [
    {
     "name": "stdout",
     "output_type": "stream",
     "text": [
      "['p', 'r', 'o', 'b']\n",
      "['b']\n"
     ]
    }
   ],
   "source": [
    "#slicing\n",
    "list = ['p','r','o','b','e'] \n",
    "print(list[0:4]) #Positive \n",
    "print(list[-2:-1]) # Negative\n",
    "\n"
   ]
  },
  {
   "cell_type": "code",
   "execution_count": 15,
   "id": "e7cb6885-3331-49f8-a951-5a0b2425d7de",
   "metadata": {},
   "outputs": [
    {
     "name": "stdout",
     "output_type": "stream",
     "text": [
      "[]\n"
     ]
    }
   ],
   "source": [
    "print(list[4:0])"
   ]
  },
  {
   "cell_type": "code",
   "execution_count": 16,
   "id": "2d37189d-8d6f-4782-b70e-94fc0b483b90",
   "metadata": {},
   "outputs": [
    {
     "name": "stdout",
     "output_type": "stream",
     "text": [
      "[]\n"
     ]
    }
   ],
   "source": [
    "print(list[-1:-2])"
   ]
  },
  {
   "cell_type": "code",
   "execution_count": 17,
   "id": "24b5510d-1d21-43a8-92a0-1ea8a8c45be9",
   "metadata": {},
   "outputs": [
    {
     "name": "stdout",
     "output_type": "stream",
     "text": [
      "[7, 5, 1, 'a', 'b', 'd', True]\n"
     ]
    },
    {
     "data": {
      "text/plain": [
       "[7, 5, 1, 'a', 'b', 'c', True]"
      ]
     },
     "execution_count": 17,
     "metadata": {},
     "output_type": "execute_result"
    }
   ],
   "source": [
    "list1=[7,5,1,'a','b','d',True]\n",
    "print(list1)\n",
    "list1[5]='c'\n",
    "list1"
   ]
  },
  {
   "cell_type": "code",
   "execution_count": 5,
   "id": "5a2b2ec6-afef-4920-993d-12e641effd80",
   "metadata": {},
   "outputs": [
    {
     "data": {
      "text/plain": [
       "[4, 5, 1, [7, 8], ['p', 'q'], 56, 2.3, 'x', False]"
      ]
     },
     "execution_count": 5,
     "metadata": {},
     "output_type": "execute_result"
    }
   ],
   "source": [
    "nested_list=[4,5,1,[7,8],['p','q'],56,2.3,'x',False]\n",
    "nested_list"
   ]
  },
  {
   "cell_type": "code",
   "execution_count": 19,
   "id": "a9ad59c1-f2f6-48ac-8278-290a979c2d83",
   "metadata": {},
   "outputs": [
    {
     "data": {
      "text/plain": [
       "9"
      ]
     },
     "execution_count": 19,
     "metadata": {},
     "output_type": "execute_result"
    }
   ],
   "source": [
    "len(nested_list)"
   ]
  },
  {
   "cell_type": "code",
   "execution_count": 20,
   "id": "7206e9ff-4455-4364-8975-d05824bd8649",
   "metadata": {},
   "outputs": [
    {
     "data": {
      "text/plain": [
       "7"
      ]
     },
     "execution_count": 20,
     "metadata": {},
     "output_type": "execute_result"
    }
   ],
   "source": [
    "nested_list[3][0]"
   ]
  },
  {
   "cell_type": "code",
   "execution_count": 6,
   "id": "c4fe6b10-df4b-488c-b27a-bac242958641",
   "metadata": {},
   "outputs": [
    {
     "data": {
      "text/plain": [
       "'q'"
      ]
     },
     "execution_count": 6,
     "metadata": {},
     "output_type": "execute_result"
    }
   ],
   "source": [
    "nested_list[3][1]\n",
    "nested_list[4][1]"
   ]
  },
  {
   "cell_type": "code",
   "execution_count": 22,
   "id": "98e97a3d-6648-4163-b409-957363949be0",
   "metadata": {},
   "outputs": [
    {
     "data": {
      "text/plain": [
       "'q'"
      ]
     },
     "execution_count": 22,
     "metadata": {},
     "output_type": "execute_result"
    }
   ],
   "source": [
    "nested_list[4][1]"
   ]
  },
  {
   "cell_type": "code",
   "execution_count": 24,
   "id": "a974f0e7-45d9-4073-8ea5-447b58b13254",
   "metadata": {},
   "outputs": [
    {
     "name": "stdout",
     "output_type": "stream",
     "text": [
      "n\n",
      "a\n"
     ]
    }
   ],
   "source": [
    "x='Python language'\n",
    "print(x[5])\n",
    "print(x[8])"
   ]
  },
  {
   "cell_type": "code",
   "execution_count": 25,
   "id": "c2b60686-aae4-482f-aa5d-c155c3b620f7",
   "metadata": {},
   "outputs": [
    {
     "ename": "TypeError",
     "evalue": "'str' object does not support item assignment",
     "output_type": "error",
     "traceback": [
      "\u001b[1;31m---------------------------------------------------------------------------\u001b[0m",
      "\u001b[1;31mTypeError\u001b[0m                                 Traceback (most recent call last)",
      "Cell \u001b[1;32mIn[25], line 1\u001b[0m\n\u001b[1;32m----> 1\u001b[0m \u001b[43mx\u001b[49m\u001b[43m[\u001b[49m\u001b[38;5;241;43m6\u001b[39;49m\u001b[43m]\u001b[49m\u001b[38;5;241m=\u001b[39m\u001b[38;5;124m'\u001b[39m\u001b[38;5;124mb\u001b[39m\u001b[38;5;124m'\u001b[39m\n",
      "\u001b[1;31mTypeError\u001b[0m: 'str' object does not support item assignment"
     ]
    }
   ],
   "source": [
    "x[6]='b'\n"
   ]
  },
  {
   "cell_type": "code",
   "execution_count": 26,
   "id": "55b925b9-6dae-4f28-88b2-d4c24166656c",
   "metadata": {},
   "outputs": [
    {
     "name": "stdout",
     "output_type": "stream",
     "text": [
      "['Python', 'language']\n"
     ]
    },
    {
     "data": {
      "text/plain": [
       "['Python', 'scripting']"
      ]
     },
     "execution_count": 26,
     "metadata": {},
     "output_type": "execute_result"
    }
   ],
   "source": [
    "y=['Python', 'language']\n",
    "print(y)\n",
    "y[1]='scripting'\n",
    "y"
   ]
  },
  {
   "cell_type": "code",
   "execution_count": 27,
   "id": "8c3c2f89-e286-4c1f-bb2a-b972770a7ac9",
   "metadata": {},
   "outputs": [
    {
     "data": {
      "text/plain": [
       "'Python language'"
      ]
     },
     "execution_count": 27,
     "metadata": {},
     "output_type": "execute_result"
    }
   ],
   "source": [
    "x\n"
   ]
  },
  {
   "cell_type": "code",
   "execution_count": 28,
   "id": "16359f8e-1e8e-4779-b12c-2589b06a9478",
   "metadata": {},
   "outputs": [
    {
     "data": {
      "text/plain": [
       "'hon'"
      ]
     },
     "execution_count": 28,
     "metadata": {},
     "output_type": "execute_result"
    }
   ],
   "source": [
    "x[3:6]"
   ]
  },
  {
   "cell_type": "code",
   "execution_count": 29,
   "id": "06b51e25-0547-4e05-a096-b20eac4d141c",
   "metadata": {},
   "outputs": [
    {
     "data": {
      "text/plain": [
       "'e'"
      ]
     },
     "execution_count": 29,
     "metadata": {},
     "output_type": "execute_result"
    }
   ],
   "source": [
    "x[-1]"
   ]
  },
  {
   "cell_type": "code",
   "execution_count": 30,
   "id": "7ba4a1a9-bb51-4cab-bf43-88ed45bb98b1",
   "metadata": {},
   "outputs": [
    {
     "name": "stdout",
     "output_type": "stream",
     "text": [
      "['Python', 'scripting', 'interesting']\n"
     ]
    }
   ],
   "source": [
    "#append()\n",
    "y\n",
    "y.append('interesting')\n",
    "print(y)"
   ]
  },
  {
   "cell_type": "code",
   "execution_count": 37,
   "id": "5264cdaf-a16d-432c-b20a-1b1c0e3ecb1f",
   "metadata": {},
   "outputs": [
    {
     "name": "stdout",
     "output_type": "stream",
     "text": [
      "1\n",
      "0\n",
      "['Python', 'scripting', 'interesting', 'i', 'i']\n",
      "2\n",
      "0\n"
     ]
    }
   ],
   "source": [
    "#count()\n",
    "print(y.count('i'))\n",
    "print(y.count('y'))\n",
    "y.append('i')\n",
    "print(y)\n",
    "print(y.count('i'))\n",
    "print(y.count('I'))"
   ]
  },
  {
   "cell_type": "code",
   "execution_count": 32,
   "id": "e54a5137-607e-4702-9b2a-3b5387d67c9d",
   "metadata": {},
   "outputs": [
    {
     "data": {
      "text/plain": [
       "['Python', 'scripting', 'interesting']"
      ]
     },
     "execution_count": 32,
     "metadata": {},
     "output_type": "execute_result"
    }
   ],
   "source": [
    "y"
   ]
  },
  {
   "cell_type": "code",
   "execution_count": 33,
   "id": "7a8f7631-6696-461d-a9c8-8f845673b151",
   "metadata": {},
   "outputs": [
    {
     "data": {
      "text/plain": [
       "[7, 5, 1, 'a', 'b', 'c', True]"
      ]
     },
     "execution_count": 33,
     "metadata": {},
     "output_type": "execute_result"
    }
   ],
   "source": [
    "list1"
   ]
  },
  {
   "cell_type": "code",
   "execution_count": 34,
   "id": "8f6d4189-94ae-4df0-8af9-d7d77592f58d",
   "metadata": {},
   "outputs": [
    {
     "data": {
      "text/plain": [
       "1"
      ]
     },
     "execution_count": 34,
     "metadata": {},
     "output_type": "execute_result"
    }
   ],
   "source": [
    "#count()\n",
    "list1.count('a')"
   ]
  },
  {
   "cell_type": "code",
   "execution_count": 1,
   "id": "ce56d9bc-2e5c-4080-8e1a-ea6f6e97245e",
   "metadata": {},
   "outputs": [
    {
     "data": {
      "text/plain": [
       "'scripting'"
      ]
     },
     "execution_count": 1,
     "metadata": {},
     "output_type": "execute_result"
    }
   ],
   "source": [
    "list1=['Python', 'scripting', 'interesting']\n",
    "list1[1]"
   ]
  },
  {
   "cell_type": "code",
   "execution_count": 2,
   "id": "d017979a-caac-4771-8d42-23d7fdd64932",
   "metadata": {},
   "outputs": [
    {
     "data": {
      "text/plain": [
       "'interesting'"
      ]
     },
     "execution_count": 2,
     "metadata": {},
     "output_type": "execute_result"
    }
   ],
   "source": [
    "list1[2]"
   ]
  },
  {
   "cell_type": "code",
   "execution_count": 3,
   "id": "d4f40a94-d3c1-4eba-a891-a175bff294ce",
   "metadata": {},
   "outputs": [
    {
     "data": {
      "text/plain": [
       "'interesting'"
      ]
     },
     "execution_count": 3,
     "metadata": {},
     "output_type": "execute_result"
    }
   ],
   "source": [
    "list1[-1]"
   ]
  },
  {
   "cell_type": "code",
   "execution_count": 7,
   "id": "d62a398e-ca15-48b4-b8d1-cf8abd7dda3a",
   "metadata": {},
   "outputs": [
    {
     "data": {
      "text/plain": [
       "[4, 5, 1, [7, 8], ['p', 'q'], 56, 2.3, 'x', False]"
      ]
     },
     "execution_count": 7,
     "metadata": {},
     "output_type": "execute_result"
    }
   ],
   "source": [
    "#extend()\n",
    "nested_list"
   ]
  },
  {
   "cell_type": "code",
   "execution_count": 8,
   "id": "659ac70e-d581-4486-bbb8-c07873a2048a",
   "metadata": {},
   "outputs": [],
   "source": [
    "nested_list.extend('a')"
   ]
  },
  {
   "cell_type": "code",
   "execution_count": 9,
   "id": "cf2551dc-a5e0-45e5-8e9f-e3da39621ecf",
   "metadata": {},
   "outputs": [
    {
     "data": {
      "text/plain": [
       "[4, 5, 1, [7, 8], ['p', 'q'], 56, 2.3, 'x', False, 'a']"
      ]
     },
     "execution_count": 9,
     "metadata": {},
     "output_type": "execute_result"
    }
   ],
   "source": [
    "nested_list"
   ]
  },
  {
   "cell_type": "code",
   "execution_count": 10,
   "id": "f8e028b1-f32d-4c84-8e7e-fa6cb8c61bf9",
   "metadata": {},
   "outputs": [],
   "source": [
    "nested_list.extend([True,False])"
   ]
  },
  {
   "cell_type": "code",
   "execution_count": 11,
   "id": "5d74f0ba-4a3f-4020-a7b7-6c1c8866d66a",
   "metadata": {},
   "outputs": [
    {
     "data": {
      "text/plain": [
       "[4, 5, 1, [7, 8], ['p', 'q'], 56, 2.3, 'x', False, 'a', True, False]"
      ]
     },
     "execution_count": 11,
     "metadata": {},
     "output_type": "execute_result"
    }
   ],
   "source": [
    "nested_list"
   ]
  },
  {
   "cell_type": "code",
   "execution_count": 13,
   "id": "0b287620-78f8-4af1-a35f-787442270baa",
   "metadata": {},
   "outputs": [
    {
     "data": {
      "text/plain": [
       "[4,\n",
       " 5,\n",
       " 1,\n",
       " [7, 8],\n",
       " ['p', 'q'],\n",
       " 56,\n",
       " 2.3,\n",
       " 'x',\n",
       " False,\n",
       " 'a',\n",
       " True,\n",
       " False,\n",
       " 3,\n",
       " 4,\n",
       " 'a',\n",
       " 3,\n",
       " 4,\n",
       " 'a']"
      ]
     },
     "execution_count": 13,
     "metadata": {},
     "output_type": "execute_result"
    }
   ],
   "source": [
    "ext_list=[3,4,'a']\n",
    "nested_list.extend(ext_list)\n",
    "nested_list"
   ]
  },
  {
   "cell_type": "code",
   "execution_count": 14,
   "id": "a8152d78-9ac3-418a-a382-bf8711c03325",
   "metadata": {},
   "outputs": [
    {
     "data": {
      "text/plain": [
       "[4,\n",
       " 5,\n",
       " 1,\n",
       " [7, 8],\n",
       " ['p', 'q'],\n",
       " 56,\n",
       " 2.3,\n",
       " 'x',\n",
       " False,\n",
       " 'a',\n",
       " True,\n",
       " False,\n",
       " 3,\n",
       " 4,\n",
       " 'a',\n",
       " 3,\n",
       " 4,\n",
       " 'a']"
      ]
     },
     "execution_count": 14,
     "metadata": {},
     "output_type": "execute_result"
    }
   ],
   "source": [
    "nested_list"
   ]
  },
  {
   "cell_type": "code",
   "execution_count": 15,
   "id": "0bd097cf-447c-4c11-9679-c3751f48b5da",
   "metadata": {},
   "outputs": [
    {
     "data": {
      "text/plain": [
       "[4,\n",
       " 5,\n",
       " 1,\n",
       " [7, 8],\n",
       " ['p', 'q'],\n",
       " 56,\n",
       " 2.3,\n",
       " 'x',\n",
       " False,\n",
       " 'a',\n",
       " True,\n",
       " False,\n",
       " 3,\n",
       " 4,\n",
       " 'a',\n",
       " 3,\n",
       " 4,\n",
       " 'a',\n",
       " 6,\n",
       " 1,\n",
       " 'a',\n",
       " 'b']"
      ]
     },
     "execution_count": 15,
     "metadata": {},
     "output_type": "execute_result"
    }
   ],
   "source": [
    "tuple1=(6,1,'a','b')\n",
    "nested_list.extend(tuple1)\n",
    "nested_list"
   ]
  },
  {
   "cell_type": "code",
   "execution_count": 16,
   "id": "893337a1-8bb1-468e-a611-8f9fa92226bb",
   "metadata": {},
   "outputs": [
    {
     "data": {
      "text/plain": [
       "[1, 2, 3]"
      ]
     },
     "execution_count": 16,
     "metadata": {},
     "output_type": "execute_result"
    }
   ],
   "source": [
    "listnew=[1,2,3]\n",
    "listnew"
   ]
  },
  {
   "cell_type": "code",
   "execution_count": 17,
   "id": "7b919e4b-e866-4c19-bb95-efafa7e56920",
   "metadata": {},
   "outputs": [
    {
     "data": {
      "text/plain": [
       "1"
      ]
     },
     "execution_count": 17,
     "metadata": {},
     "output_type": "execute_result"
    }
   ],
   "source": [
    "#index()\n",
    "listnew.index(2)"
   ]
  },
  {
   "cell_type": "code",
   "execution_count": 18,
   "id": "fd9aef12-4848-4dad-82dd-f601a3c1f78e",
   "metadata": {},
   "outputs": [
    {
     "data": {
      "text/plain": [
       "[1, 2, 3, 4]"
      ]
     },
     "execution_count": 18,
     "metadata": {},
     "output_type": "execute_result"
    }
   ],
   "source": [
    "#insert()\n",
    "listnew.insert(3,4)\n",
    "listnew"
   ]
  },
  {
   "cell_type": "code",
   "execution_count": 19,
   "id": "e141e72b-0609-4a37-9b5a-5b0ebbf22beb",
   "metadata": {},
   "outputs": [
    {
     "data": {
      "text/plain": [
       "[1, 5, 2, 3, 4]"
      ]
     },
     "execution_count": 19,
     "metadata": {},
     "output_type": "execute_result"
    }
   ],
   "source": [
    "listnew.insert(1,5)\n",
    "listnew"
   ]
  },
  {
   "cell_type": "code",
   "execution_count": 20,
   "id": "2780468c-6653-4899-819a-d04f9f20b83a",
   "metadata": {},
   "outputs": [
    {
     "data": {
      "text/plain": [
       "4"
      ]
     },
     "execution_count": 20,
     "metadata": {},
     "output_type": "execute_result"
    }
   ],
   "source": [
    "#pop() without param\n",
    "listnew.pop()"
   ]
  },
  {
   "cell_type": "code",
   "execution_count": 21,
   "id": "2eb10f16-00fb-4c4a-bb84-696a53e80c7f",
   "metadata": {},
   "outputs": [
    {
     "data": {
      "text/plain": [
       "[1, 5, 2, 3]"
      ]
     },
     "execution_count": 21,
     "metadata": {},
     "output_type": "execute_result"
    }
   ],
   "source": [
    "listnew"
   ]
  },
  {
   "cell_type": "code",
   "execution_count": 22,
   "id": "944e9202-2002-402b-9c8d-4041fb7c734f",
   "metadata": {},
   "outputs": [
    {
     "data": {
      "text/plain": [
       "[1, 5, 3]"
      ]
     },
     "execution_count": 22,
     "metadata": {},
     "output_type": "execute_result"
    }
   ],
   "source": [
    "#pop() with param\n",
    "listnew.pop(2)\n",
    "listnew"
   ]
  },
  {
   "cell_type": "code",
   "execution_count": 23,
   "id": "5368dff0-e690-405e-80b0-56e66955284e",
   "metadata": {},
   "outputs": [
    {
     "ename": "IndexError",
     "evalue": "pop index out of range",
     "output_type": "error",
     "traceback": [
      "\u001b[1;31m---------------------------------------------------------------------------\u001b[0m",
      "\u001b[1;31mIndexError\u001b[0m                                Traceback (most recent call last)",
      "Cell \u001b[1;32mIn[23], line 1\u001b[0m\n\u001b[1;32m----> 1\u001b[0m \u001b[43mlistnew\u001b[49m\u001b[38;5;241;43m.\u001b[39;49m\u001b[43mpop\u001b[49m\u001b[43m(\u001b[49m\u001b[38;5;241;43m4\u001b[39;49m\u001b[43m)\u001b[49m\n\u001b[0;32m      2\u001b[0m listnew\n",
      "\u001b[1;31mIndexError\u001b[0m: pop index out of range"
     ]
    }
   ],
   "source": [
    "listnew.pop(4)\n",
    "listnew"
   ]
  },
  {
   "cell_type": "code",
   "execution_count": 24,
   "id": "8ef62fe6-0eb7-4e30-82ed-827a15fa3afb",
   "metadata": {},
   "outputs": [
    {
     "data": {
      "text/plain": [
       "[1, 5, 3]"
      ]
     },
     "execution_count": 24,
     "metadata": {},
     "output_type": "execute_result"
    }
   ],
   "source": [
    "listnew"
   ]
  },
  {
   "cell_type": "code",
   "execution_count": 25,
   "id": "5d4ab807-e9a5-472d-80d2-abc8cc12dba1",
   "metadata": {},
   "outputs": [
    {
     "data": {
      "text/plain": [
       "[1, 5, 3]"
      ]
     },
     "execution_count": 25,
     "metadata": {},
     "output_type": "execute_result"
    }
   ],
   "source": [
    "newlistnew=listnew\n",
    "newlistnew"
   ]
  },
  {
   "cell_type": "code",
   "execution_count": 26,
   "id": "d165ff4b-abef-4b44-8359-a84b3a6e7d29",
   "metadata": {},
   "outputs": [
    {
     "data": {
      "text/plain": [
       "[1, 5, 'new', 3]"
      ]
     },
     "execution_count": 26,
     "metadata": {},
     "output_type": "execute_result"
    }
   ],
   "source": [
    "newlistnew.insert(2,'new')\n",
    "newlistnew"
   ]
  },
  {
   "cell_type": "code",
   "execution_count": 27,
   "id": "28ddf4b7-9c8f-4d58-8218-12c47ed9a708",
   "metadata": {},
   "outputs": [
    {
     "data": {
      "text/plain": [
       "[1, 5, 'new', 3]"
      ]
     },
     "execution_count": 27,
     "metadata": {},
     "output_type": "execute_result"
    }
   ],
   "source": [
    "listnew"
   ]
  },
  {
   "cell_type": "code",
   "execution_count": 28,
   "id": "39915934-a165-4e08-972a-80ebaec7bbcd",
   "metadata": {},
   "outputs": [
    {
     "data": {
      "text/plain": [
       "[1, 5, 'new', 3]"
      ]
     },
     "execution_count": 28,
     "metadata": {},
     "output_type": "execute_result"
    }
   ],
   "source": [
    "listnew"
   ]
  },
  {
   "cell_type": "code",
   "execution_count": 29,
   "id": "e7f90de6-b968-48a8-a1e4-a2ab1a928896",
   "metadata": {},
   "outputs": [
    {
     "data": {
      "text/plain": [
       "[1, 5, 'new', 3]"
      ]
     },
     "execution_count": 29,
     "metadata": {},
     "output_type": "execute_result"
    }
   ],
   "source": [
    "recentlist=listnew[:]\n",
    "recentlist"
   ]
  },
  {
   "cell_type": "code",
   "execution_count": 30,
   "id": "ac1e61e1-49bd-4e23-848e-8c23c16ff6be",
   "metadata": {},
   "outputs": [
    {
     "name": "stdout",
     "output_type": "stream",
     "text": [
      "[1, 5, 'new', 3, 10]\n",
      "[1, 5, 'new', 3]\n"
     ]
    }
   ],
   "source": [
    "recentlist.append(10)\n",
    "print(recentlist)\n",
    "print(listnew)"
   ]
  },
  {
   "cell_type": "code",
   "execution_count": 31,
   "id": "f5be2eae-256e-4053-bc74-0d7313992a09",
   "metadata": {},
   "outputs": [
    {
     "name": "stdout",
     "output_type": "stream",
     "text": [
      "[1, 5, 'new', 3]\n",
      "[1, 5, 'new', 3]\n"
     ]
    }
   ],
   "source": [
    "#copy()\n",
    "listcopy=listnew.copy()\n",
    "print(listcopy)\n",
    "print(listnew)"
   ]
  },
  {
   "cell_type": "code",
   "execution_count": 32,
   "id": "b6d31132-3745-48a9-bbba-ef90962789bc",
   "metadata": {},
   "outputs": [
    {
     "data": {
      "text/plain": [
       "[1, 5, 3]"
      ]
     },
     "execution_count": 32,
     "metadata": {},
     "output_type": "execute_result"
    }
   ],
   "source": [
    "#remove()\n",
    "listcopy.remove('new')\n",
    "listcopy"
   ]
  },
  {
   "cell_type": "code",
   "execution_count": 34,
   "id": "74dcf305-2705-40a1-ac0e-077ab4ec5d18",
   "metadata": {},
   "outputs": [
    {
     "data": {
      "text/plain": [
       "[1, 3, 5]"
      ]
     },
     "execution_count": 34,
     "metadata": {},
     "output_type": "execute_result"
    }
   ],
   "source": [
    "listcopy.sort()\n",
    "listcopy"
   ]
  },
  {
   "cell_type": "code",
   "execution_count": 36,
   "id": "c17f2acd-591c-45f6-904c-05a7607ae586",
   "metadata": {},
   "outputs": [
    {
     "data": {
      "text/plain": [
       "[5, 3, 1]"
      ]
     },
     "execution_count": 36,
     "metadata": {},
     "output_type": "execute_result"
    }
   ],
   "source": [
    "#sort in reverse order\n",
    "listcopy.sort(reverse=True)\n",
    "listcopy"
   ]
  },
  {
   "cell_type": "code",
   "execution_count": 37,
   "id": "f299f601-bc79-4efc-ad06-6ca56bfcfb12",
   "metadata": {},
   "outputs": [
    {
     "data": {
      "text/plain": [
       "5"
      ]
     },
     "execution_count": 37,
     "metadata": {},
     "output_type": "execute_result"
    }
   ],
   "source": [
    "max(listcopy)"
   ]
  },
  {
   "cell_type": "code",
   "execution_count": 40,
   "id": "e0eb4452-5dd8-432f-8ecc-e574a7ffda9a",
   "metadata": {},
   "outputs": [
    {
     "data": {
      "text/plain": [
       "1"
      ]
     },
     "execution_count": 40,
     "metadata": {},
     "output_type": "execute_result"
    }
   ],
   "source": [
    "min(listcopy)"
   ]
  },
  {
   "cell_type": "code",
   "execution_count": 41,
   "id": "1d73e6a6-b994-452c-8cc2-3ee720c23b76",
   "metadata": {},
   "outputs": [
    {
     "data": {
      "text/plain": [
       "'[5, 3, 1]'"
      ]
     },
     "execution_count": 41,
     "metadata": {},
     "output_type": "execute_result"
    }
   ],
   "source": [
    "#str()\n",
    "x=str(listcopy)\n",
    "x"
   ]
  },
  {
   "cell_type": "code",
   "execution_count": null,
   "id": "024c3e06-3104-44a5-a4e1-0e8b3643d791",
   "metadata": {},
   "outputs": [],
   "source": []
  }
 ],
 "metadata": {
  "kernelspec": {
   "display_name": "Python 3 (ipykernel)",
   "language": "python",
   "name": "python3"
  },
  "language_info": {
   "codemirror_mode": {
    "name": "ipython",
    "version": 3
   },
   "file_extension": ".py",
   "mimetype": "text/x-python",
   "name": "python",
   "nbconvert_exporter": "python",
   "pygments_lexer": "ipython3",
   "version": "3.12.0"
  }
 },
 "nbformat": 4,
 "nbformat_minor": 5
}
